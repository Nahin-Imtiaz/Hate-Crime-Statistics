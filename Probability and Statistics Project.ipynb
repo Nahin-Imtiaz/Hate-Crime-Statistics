{
 "cells": [
  {
   "cell_type": "markdown",
   "metadata": {},
   "source": [
    "Hate crime has been increasing every year and Black Americans are protesting against it and saying that they are still the victims of hate crimes more than any other group and blaming police for not taking action. In my project , I will try to analyze the Hate crime data gathered from FBI's database for the years 2017-2015. For this project,we will only consider certain race.They are - White, Black , American Indian ,Hispanic/Lation and Asian. We will try to answer these three questions by the end of the project - \n",
    "    1. Which race is facing the most hate crimes?\n",
    "    2. How many percent of those offenders are getting caught/known for each race?\n",
    "    3. how fast the hate crime is increasing for each race?(the rate)\n",
    "\n",
    "Variables will be the 5 race that I mentioned."
   ]
  },
  {
   "cell_type": "code",
   "execution_count": 1,
   "metadata": {},
   "outputs": [],
   "source": [
    "#Importing neccesary packages\n",
    "import pandas as pd\n",
    "import numpy as np\n",
    "import seaborn as sns\n",
    "import scipy.stats as stats\n",
    "import matplotlib.pyplot as plt\n",
    "%matplotlib inline"
   ]
  },
  {
   "cell_type": "markdown",
   "metadata": {},
   "source": [
    "These are the datasets I will be using.\n",
    "    1. 2015 hate crime statistics- https://ucr.fbi.gov/hate-crime/2015/tables-and-data-declarations/1tabledatadecpdf \n",
    "    2. 2016 hate crime statistics- https://ucr.fbi.gov/hate-crime/2016/tables/table-1 \n",
    "    3. 2017 hate crime statistics- https://ucr.fbi.gov/hate-crime/2017/topic-pages/tables/table-1.xls "
   ]
  },
  {
   "cell_type": "code",
   "execution_count": 2,
   "metadata": {
    "scrolled": false
   },
   "outputs": [],
   "source": [
    "#Scrapping Offense and Known Offenders from Hate crime statistics for 2017\n",
    "H_C2017 = pd.read_excel(r'C:\\Users\\Nahin Imtiaz\\Downloads\\table-1 (1).xls',header=3)\n",
    "H_C2017 =H_C2017[['Bias motivation','Offenses','Known offenders2']]\n",
    "H_C2017['Offenses']=pd.to_numeric(H_C2017['Offenses'])\n",
    "H_C2017['Known offenders2']=pd.to_numeric(H_C2017['Known offenders2'])\n",
    "# Creating two columns to show Unsolved Cases and Percentage\n",
    "H_C2017['Unsolved Cases']=H_C2017['Offenses']-H_C2017['Known offenders2']\n",
    "H_C2017['Percentage']=(H_C2017['Unsolved Cases']/H_C2017['Offenses'])*100\n",
    "\n",
    "#Scrapping Offense and Known Offenders from Hate crime statistics for 2016\n",
    "H_C2016 = pd.read_excel(r'C:\\Users\\Nahin Imtiaz\\Downloads\\table_1_incidents_offenses_victims_and_known_offenders_by_bias_motivation_2016 (1).xls',header=3)\n",
    "H_C2016 =H_C2016[['Bias motivation','Offenses','Known offenders2']]\n",
    "H_C2016['Offenses']=pd.to_numeric(H_C2016['Offenses'])\n",
    "H_C2016['Known offenders2']=pd.to_numeric(H_C2016['Known offenders2'])\n",
    "# Creating two columns to show Unsolved Cases and Percentage\n",
    "H_C2016['Unsolved Cases']=H_C2016['Offenses']-H_C2016['Known offenders2']\n",
    "H_C2016['Percentage']=(H_C2016['Unsolved Cases']/H_C2016['Offenses'])*100\n",
    "\n",
    "#Scrapping Offense and Known Offenders from Hate crime statistics for 2015\n",
    "H_C2015 =  pd.read_excel(r'C:\\Users\\Nahin Imtiaz\\Downloads\\table_1_incidents_offenses_victims_and_known_offenders_by_bias_motivation_2015.xls',header=3)\n",
    "H_C2015 =H_C2015[['Bias motivation','Offenses','Known offenders2']]\n",
    "H_C2015['Offenses']=pd.to_numeric(H_C2015['Offenses'])\n",
    "H_C2015['Known offenders2']=pd.to_numeric(H_C2015['Known offenders2'])\n",
    "# Creating two columns to show Unsolved Cases and Percentage\n",
    "H_C2015['Unsolved Cases']=H_C2015['Offenses']-H_C2015['Known offenders2']\n",
    "H_C2015['Percentage']=(H_C2015['Unsolved Cases']/H_C2015['Offenses'])*100\n"
   ]
  },
  {
   "cell_type": "markdown",
   "metadata": {},
   "source": [
    "### Creating a Data Frame and a Bar Chart that shows which race is facing the most hate crimes"
   ]
  },
  {
   "cell_type": "code",
   "execution_count": 3,
   "metadata": {},
   "outputs": [],
   "source": [
    "#Constructing DataFrame of Most  Hate Crimes by race and year\n",
    "most_crime_by_race = pd.DataFrame(np.array([ [\"White\", H_C2015[\"Offenses\"][3] ,H_C2016[\"Offenses\"][3] ,H_C2017[\"Offenses\"][3]],\n",
    "                                                 [\"Black\", H_C2015[\"Offenses\"][4] ,H_C2016[\"Offenses\"][4] ,H_C2017[\"Offenses\"][4]],\n",
    "                                                  [\"American Indian\", H_C2015[\"Offenses\"][5] ,H_C2016[\"Offenses\"][5] ,H_C2017[\"Offenses\"][5]],\n",
    "                                                  [\"Hispanic/Latin\", H_C2015[\"Offenses\"][10] ,H_C2016[\"Offenses\"][10] ,H_C2017[\"Offenses\"][10]],\n",
    "                                                  [\"Asian\", H_C2015[\"Offenses\"][6] ,H_C2016[\"Offenses\"][6] ,H_C2017[\"Offenses\"][6]]]),\n",
    "                                                columns = ['Race','2015','2016','2017'])"
   ]
  },
  {
   "cell_type": "code",
   "execution_count": 4,
   "metadata": {},
   "outputs": [
    {
     "data": {
      "text/html": [
       "<div>\n",
       "<style scoped>\n",
       "    .dataframe tbody tr th:only-of-type {\n",
       "        vertical-align: middle;\n",
       "    }\n",
       "\n",
       "    .dataframe tbody tr th {\n",
       "        vertical-align: top;\n",
       "    }\n",
       "\n",
       "    .dataframe thead th {\n",
       "        text-align: right;\n",
       "    }\n",
       "</style>\n",
       "<table border=\"1\" class=\"dataframe\">\n",
       "  <thead>\n",
       "    <tr style=\"text-align: right;\">\n",
       "      <th></th>\n",
       "      <th>Race</th>\n",
       "      <th>2015</th>\n",
       "      <th>2016</th>\n",
       "      <th>2017</th>\n",
       "    </tr>\n",
       "  </thead>\n",
       "  <tbody>\n",
       "    <tr>\n",
       "      <th>0</th>\n",
       "      <td>White</td>\n",
       "      <td>734</td>\n",
       "      <td>876</td>\n",
       "      <td>844</td>\n",
       "    </tr>\n",
       "    <tr>\n",
       "      <th>1</th>\n",
       "      <td>Black</td>\n",
       "      <td>2125</td>\n",
       "      <td>2122</td>\n",
       "      <td>2358</td>\n",
       "    </tr>\n",
       "    <tr>\n",
       "      <th>2</th>\n",
       "      <td>American Indian</td>\n",
       "      <td>137</td>\n",
       "      <td>161</td>\n",
       "      <td>281</td>\n",
       "    </tr>\n",
       "    <tr>\n",
       "      <th>3</th>\n",
       "      <td>Hispanic/Latin</td>\n",
       "      <td>379</td>\n",
       "      <td>449</td>\n",
       "      <td>525</td>\n",
       "    </tr>\n",
       "    <tr>\n",
       "      <th>4</th>\n",
       "      <td>Asian</td>\n",
       "      <td>132</td>\n",
       "      <td>131</td>\n",
       "      <td>152</td>\n",
       "    </tr>\n",
       "  </tbody>\n",
       "</table>\n",
       "</div>"
      ],
      "text/plain": [
       "              Race  2015  2016  2017\n",
       "0            White   734   876   844\n",
       "1            Black  2125  2122  2358\n",
       "2  American Indian   137   161   281\n",
       "3   Hispanic/Latin   379   449   525\n",
       "4            Asian   132   131   152"
      ]
     },
     "execution_count": 4,
     "metadata": {},
     "output_type": "execute_result"
    }
   ],
   "source": [
    "most_crime_by_race"
   ]
  },
  {
   "cell_type": "code",
   "execution_count": 5,
   "metadata": {},
   "outputs": [],
   "source": [
    "#Converting all columns except \"Race\" to ints\n",
    "most_crime_by_race[\"2015\"] = pd.to_numeric(most_crime_by_race[\"2015\"])\n",
    "most_crime_by_race[\"2016\"] = pd.to_numeric(most_crime_by_race[\"2016\"])\n",
    "most_crime_by_race[\"2017\"] = pd.to_numeric(most_crime_by_race[\"2017\"])"
   ]
  },
  {
   "cell_type": "code",
   "execution_count": 6,
   "metadata": {},
   "outputs": [
    {
     "data": {
      "text/plain": [
       "Text(0, 0.5, 'Offenses')"
      ]
     },
     "execution_count": 6,
     "metadata": {},
     "output_type": "execute_result"
    },
    {
     "data": {
      "image/png": "[encoded data removed]",
      "text/plain": [
       "<Figure size 720x720 with 1 Axes>"
      ]
     },
     "metadata": {
      "needs_background": "light"
     },
     "output_type": "display_data"
    }
   ],
   "source": [
    "plt_most_crime_by_race =most_crime_by_race.plot(kind = 'bar', x = 'Race',y = ['2015', '2016', '2017'], title = \"Most hate crimes by race\", figsize = (10,10))\n",
    "plt_most_crime_by_race.set_xlabel(\"Race\")\n",
    "plt_most_crime_by_race.set_ylabel(\"Offenses\")"
   ]
  },
  {
   "cell_type": "markdown",
   "metadata": {},
   "source": [
    "The bar chart shows that Black americans are facing the most hate crimes and asians are facing the lowest amount of hate crimes."
   ]
  },
  {
   "cell_type": "markdown",
   "metadata": {},
   "source": [
    "### Chi-Square Test"
   ]
  },
  {
   "cell_type": "markdown",
   "metadata": {},
   "source": [
    "The purpose of the Chi-Square tests is to see if the distribution of unsolved cases by race is the same as the distribution of reported offenses by race. "
   ]
  },
  {
   "cell_type": "markdown",
   "metadata": {},
   "source": [
    "NH - the distributions are the same \n",
    "AH - the distributions are different."
   ]
  },
  {
   "cell_type": "code",
   "execution_count": 7,
   "metadata": {},
   "outputs": [],
   "source": [
    "most_crime_by_race = pd.DataFrame(np.array([ [\"White\", H_C2015[\"Offenses\"][3] , H_C2015[\"Unsolved Cases\"][3],H_C2016[\"Offenses\"][3], H_C2016[\"Unsolved Cases\"][3] ,H_C2017[\"Offenses\"][3], H_C2017[\"Unsolved Cases\"][3]],\n",
    "                                                 [\"Black\",H_C2015[\"Offenses\"][4] , H_C2015[\"Unsolved Cases\"][4],H_C2016[\"Offenses\"][4], H_C2016[\"Unsolved Cases\"][4] ,H_C2017[\"Offenses\"][4], H_C2017[\"Unsolved Cases\"][4]],\n",
    "                                                  [\"American Indian\",H_C2015[\"Offenses\"][5] , H_C2015[\"Unsolved Cases\"][5],H_C2016[\"Offenses\"][5], H_C2016[\"Unsolved Cases\"][5] ,H_C2017[\"Offenses\"][5], H_C2017[\"Unsolved Cases\"][5]],\n",
    "                                                  [\"Hispanic/Latin\",H_C2015[\"Offenses\"][10] , H_C2015[\"Unsolved Cases\"][10],H_C2016[\"Offenses\"][10], H_C2016[\"Unsolved Cases\"][10] ,H_C2017[\"Offenses\"][10], H_C2017[\"Unsolved Cases\"][10]],\n",
    "                                                  [\"Asian\",H_C2015[\"Offenses\"][6] , H_C2015[\"Unsolved Cases\"][6],H_C2016[\"Offenses\"][6], H_C2016[\"Unsolved Cases\"][6] ,H_C2017[\"Offenses\"][6], H_C2017[\"Unsolved Cases\"][6]]]),\n",
    "                                                columns = ['Race','2015 offense','2015 unsolved cases','2016 offense','2016 unsolved cases','2017 offense','2017 unsolved cases'])"
   ]
  },
  {
   "cell_type": "code",
   "execution_count": 8,
   "metadata": {},
   "outputs": [
    {
     "data": {
      "text/html": [
       "<div>\n",
       "<style scoped>\n",
       "    .dataframe tbody tr th:only-of-type {\n",
       "        vertical-align: middle;\n",
       "    }\n",
       "\n",
       "    .dataframe tbody tr th {\n",
       "        vertical-align: top;\n",
       "    }\n",
       "\n",
       "    .dataframe thead th {\n",
       "        text-align: right;\n",
       "    }\n",
       "</style>\n",
       "<table border=\"1\" class=\"dataframe\">\n",
       "  <thead>\n",
       "    <tr style=\"text-align: right;\">\n",
       "      <th></th>\n",
       "      <th>Race</th>\n",
       "      <th>2015 offense</th>\n",
       "      <th>2015 unsolved cases</th>\n",
       "      <th>2016 offense</th>\n",
       "      <th>2016 unsolved cases</th>\n",
       "      <th>2017 offense</th>\n",
       "      <th>2017 unsolved cases</th>\n",
       "    </tr>\n",
       "  </thead>\n",
       "  <tbody>\n",
       "    <tr>\n",
       "      <th>0</th>\n",
       "      <td>White</td>\n",
       "      <td>734</td>\n",
       "      <td>53</td>\n",
       "      <td>876</td>\n",
       "      <td>45</td>\n",
       "      <td>844</td>\n",
       "      <td>86</td>\n",
       "    </tr>\n",
       "    <tr>\n",
       "      <th>1</th>\n",
       "      <td>Black</td>\n",
       "      <td>2125</td>\n",
       "      <td>520</td>\n",
       "      <td>2122</td>\n",
       "      <td>534</td>\n",
       "      <td>2358</td>\n",
       "      <td>616</td>\n",
       "    </tr>\n",
       "    <tr>\n",
       "      <th>2</th>\n",
       "      <td>American Indian</td>\n",
       "      <td>137</td>\n",
       "      <td>24</td>\n",
       "      <td>161</td>\n",
       "      <td>43</td>\n",
       "      <td>281</td>\n",
       "      <td>53</td>\n",
       "    </tr>\n",
       "    <tr>\n",
       "      <th>3</th>\n",
       "      <td>Hispanic/Latin</td>\n",
       "      <td>379</td>\n",
       "      <td>54</td>\n",
       "      <td>449</td>\n",
       "      <td>69</td>\n",
       "      <td>525</td>\n",
       "      <td>34</td>\n",
       "    </tr>\n",
       "    <tr>\n",
       "      <th>4</th>\n",
       "      <td>Asian</td>\n",
       "      <td>132</td>\n",
       "      <td>24</td>\n",
       "      <td>131</td>\n",
       "      <td>8</td>\n",
       "      <td>152</td>\n",
       "      <td>44</td>\n",
       "    </tr>\n",
       "  </tbody>\n",
       "</table>\n",
       "</div>"
      ],
      "text/plain": [
       "              Race 2015 offense 2015 unsolved cases 2016 offense  \\\n",
       "0            White          734                  53          876   \n",
       "1            Black         2125                 520         2122   \n",
       "2  American Indian          137                  24          161   \n",
       "3   Hispanic/Latin          379                  54          449   \n",
       "4            Asian          132                  24          131   \n",
       "\n",
       "  2016 unsolved cases 2017 offense 2017 unsolved cases  \n",
       "0                  45          844                  86  \n",
       "1                 534         2358                 616  \n",
       "2                  43          281                  53  \n",
       "3                  69          525                  34  \n",
       "4                   8          152                  44  "
      ]
     },
     "execution_count": 8,
     "metadata": {},
     "output_type": "execute_result"
    }
   ],
   "source": [
    "most_crime_by_race"
   ]
  },
  {
   "cell_type": "code",
   "execution_count": 9,
   "metadata": {},
   "outputs": [],
   "source": [
    "#Converting all columns except \"Race\" from string to integer\n",
    "most_crime_by_race[\"2015 offense\"] = pd.to_numeric(most_crime_by_race[\"2015 offense\"])\n",
    "most_crime_by_race[\"2015 unsolved cases\"] = pd.to_numeric(most_crime_by_race[\"2015 unsolved cases\"])\n",
    "most_crime_by_race[\"2016 offense\"] = pd.to_numeric(most_crime_by_race[\"2016 offense\"])\n",
    "most_crime_by_race[\"2016 unsolved cases\"] = pd.to_numeric(most_crime_by_race[\"2016 unsolved cases\"])\n",
    "most_crime_by_race[\"2017 offense\"] = pd.to_numeric(most_crime_by_race[\"2017 offense\"])\n",
    "most_crime_by_race[\"2017 unsolved cases\"] = pd.to_numeric(most_crime_by_race[\"2017 unsolved cases\"])"
   ]
  },
  {
   "cell_type": "markdown",
   "metadata": {},
   "source": [
    "degrees of freedom = (5-1)*(2-1)= 4"
   ]
  },
  {
   "cell_type": "code",
   "execution_count": 10,
   "metadata": {},
   "outputs": [
    {
     "name": "stdout",
     "output_type": "stream",
     "text": [
      "Rejection Region: Greater than 9.49\n"
     ]
    },
    {
     "data": {
      "text/plain": [
       "Text(0.5, 0.92, 'Chi-Square Distribution with 10 Degrees of Freedom')"
      ]
     },
     "execution_count": 10,
     "metadata": {},
     "output_type": "execute_result"
    },
    {
     "data": {
      "image/png": "[encoded data removed]",
      "text/plain": [
       "<Figure size 720x720 with 1 Axes>"
      ]
     },
     "metadata": {
      "needs_background": "light"
     },
     "output_type": "display_data"
    }
   ],
   "source": [
    "dist = stats.chi2(df=4)\n",
    "print('Rejection Region: Greater than', np.round(dist.ppf(0.95), 2))\n",
    "fig = plt.figure(figsize=(10,10))\n",
    "x = np.linspace(dist.ppf(0.0001), dist.ppf(0.9999), 100)\n",
    "plt.plot(x, dist.pdf(x))\n",
    "plt.plot([dist.ppf(0.95), dist.ppf(0.95)],[0, dist.pdf(dist.ppf(0.95))], linestyle='dotted', color='#1f77b4')\n",
    "X_fill = np.linspace(dist.ppf(0.95), dist.ppf(0.999))\n",
    "Y = dist.pdf(X_fill)\n",
    "plt.fill_between(X_fill, 0, Y, facecolor='red')\n",
    "plt.ylim(bottom=0)\n",
    "plt.xlabel('Chi-Square Statistic')\n",
    "plt.ylabel('Probability Density Function')\n",
    "fig.suptitle('Chi-Square Distribution with 10 Degrees of Freedom', fontsize=15, y=0.92)"
   ]
  },
  {
   "cell_type": "code",
   "execution_count": 11,
   "metadata": {},
   "outputs": [
    {
     "data": {
      "text/plain": [
       "9.487729036781154"
      ]
     },
     "execution_count": 11,
     "metadata": {},
     "output_type": "execute_result"
    }
   ],
   "source": [
    "stats.chi2(df=4).ppf(0.95)"
   ]
  },
  {
   "cell_type": "markdown",
   "metadata": {},
   "source": [
    "We'll reject our null hypothesis that the distributions are the same if our Chi-square statistic is greater than 9.487"
   ]
  },
  {
   "cell_type": "markdown",
   "metadata": {},
   "source": [
    "###### Chi-square for offense and unsolved cases for the year 2015"
   ]
  },
  {
   "cell_type": "code",
   "execution_count": 12,
   "metadata": {},
   "outputs": [
    {
     "data": {
      "text/plain": [
       "(80.19826202061542,\n",
       " 1.5812528179172674e-16,\n",
       " 4,\n",
       " array([[ 659.97345768, 2218.08106169,  135.01362984,  363.11119082,\n",
       "          130.82065997],\n",
       "        [ 127.02654232,  426.91893831,   25.98637016,   69.88880918,\n",
       "           25.17934003]]))"
      ]
     },
     "execution_count": 12,
     "metadata": {},
     "output_type": "execute_result"
    }
   ],
   "source": [
    "stats.chi2_contingency([most_crime_by_race['2015 offense'],most_crime_by_race['2015 unsolved cases']])"
   ]
  },
  {
   "cell_type": "markdown",
   "metadata": {},
   "source": [
    "###### Chi-square for offense and unsolved cases for the year 2016"
   ]
  },
  {
   "cell_type": "code",
   "execution_count": 13,
   "metadata": {},
   "outputs": [
    {
     "data": {
      "text/plain": [
       "(137.0203640227843,\n",
       " 1.2258982468704446e-28,\n",
       " 4,\n",
       " array([[ 775.93938711, 2237.67102298,  171.8693105 ,  436.41324921,\n",
       "          117.10703019],\n",
       "        [ 145.06061289,  418.32897702,   32.1306895 ,   81.58675079,\n",
       "           21.89296981]]))"
      ]
     },
     "execution_count": 13,
     "metadata": {},
     "output_type": "execute_result"
    }
   ],
   "source": [
    "stats.chi2_contingency([most_crime_by_race['2016 offense'],most_crime_by_race['2016 unsolved cases']])"
   ]
  },
  {
   "cell_type": "markdown",
   "metadata": {},
   "source": [
    "###### Chi-square for offense and unsolved cases for the year 2017"
   ]
  },
  {
   "cell_type": "code",
   "execution_count": 14,
   "metadata": {},
   "outputs": [
    {
     "data": {
      "text/plain": [
       "(121.77801114693216,\n",
       " 2.2276880512591903e-25,\n",
       " 4,\n",
       " array([[ 774.8447827 , 2477.83697176,  278.27758862,  465.74003605,\n",
       "          163.30062087],\n",
       "        [ 155.1552173 ,  496.16302824,   55.72241138,   93.25996395,\n",
       "           32.69937913]]))"
      ]
     },
     "execution_count": 14,
     "metadata": {},
     "output_type": "execute_result"
    }
   ],
   "source": [
    "stats.chi2_contingency([most_crime_by_race['2017 offense'],most_crime_by_race['2017 unsolved cases']])"
   ]
  },
  {
   "cell_type": "markdown",
   "metadata": {},
   "source": [
    "From the Chi-square statistics of 2015, 2016, and 2017, we can see that for all of the years, the results of the statistics were larger than our regection region of 9.487 . So, we can reject our null hypothesis that the distribution of unsolved cases by race is the same as the distribution of reported offenses by race . The two distributions didnt come from the same distributions."
   ]
  },
  {
   "cell_type": "markdown",
   "metadata": {},
   "source": [
    "The question then is - which race has a disproportionately high (or low) rate of unsolved cases relative to total offenses?"
   ]
  },
  {
   "cell_type": "markdown",
   "metadata": {},
   "source": [
    "### Creating a Data Frame and a Bar Chart that shows which race has the most unsolved cases"
   ]
  },
  {
   "cell_type": "code",
   "execution_count": 15,
   "metadata": {},
   "outputs": [],
   "source": [
    "#Constructing DataFrame of unsolved cases by race and year\n",
    "unsolved_cases_by_race = pd.DataFrame(np.array([ [\"White\", H_C2015[\"Unsolved Cases\"][3] ,H_C2016[\"Unsolved Cases\"][3] ,H_C2017[\"Unsolved Cases\"][3]],\n",
    "                                                 [\"Black\", H_C2015[\"Unsolved Cases\"][4] ,H_C2016[\"Unsolved Cases\"][4] ,H_C2017[\"Unsolved Cases\"][4]],\n",
    "                                                  [\"American Indian\", H_C2015[\"Unsolved Cases\"][5] ,H_C2016[\"Unsolved Cases\"][5] ,H_C2017[\"Unsolved Cases\"][5]],\n",
    "                                                  [\"Hispanic/Latin\", H_C2015[\"Unsolved Cases\"][10] ,H_C2016[\"Unsolved Cases\"][10] ,H_C2017[\"Unsolved Cases\"][10]],\n",
    "                                                  [\"Asian\", H_C2015[\"Unsolved Cases\"][6] ,H_C2016[\"Unsolved Cases\"][6] ,H_C2017[\"Unsolved Cases\"][6]]]),\n",
    "                                                columns = ['Race','2015','2016','2017'])"
   ]
  },
  {
   "cell_type": "code",
   "execution_count": 16,
   "metadata": {},
   "outputs": [
    {
     "data": {
      "text/html": [
       "<div>\n",
       "<style scoped>\n",
       "    .dataframe tbody tr th:only-of-type {\n",
       "        vertical-align: middle;\n",
       "    }\n",
       "\n",
       "    .dataframe tbody tr th {\n",
       "        vertical-align: top;\n",
       "    }\n",
       "\n",
       "    .dataframe thead th {\n",
       "        text-align: right;\n",
       "    }\n",
       "</style>\n",
       "<table border=\"1\" class=\"dataframe\">\n",
       "  <thead>\n",
       "    <tr style=\"text-align: right;\">\n",
       "      <th></th>\n",
       "      <th>Race</th>\n",
       "      <th>2015</th>\n",
       "      <th>2016</th>\n",
       "      <th>2017</th>\n",
       "    </tr>\n",
       "  </thead>\n",
       "  <tbody>\n",
       "    <tr>\n",
       "      <th>0</th>\n",
       "      <td>White</td>\n",
       "      <td>53</td>\n",
       "      <td>45</td>\n",
       "      <td>86</td>\n",
       "    </tr>\n",
       "    <tr>\n",
       "      <th>1</th>\n",
       "      <td>Black</td>\n",
       "      <td>520</td>\n",
       "      <td>534</td>\n",
       "      <td>616</td>\n",
       "    </tr>\n",
       "    <tr>\n",
       "      <th>2</th>\n",
       "      <td>American Indian</td>\n",
       "      <td>24</td>\n",
       "      <td>43</td>\n",
       "      <td>53</td>\n",
       "    </tr>\n",
       "    <tr>\n",
       "      <th>3</th>\n",
       "      <td>Hispanic/Latin</td>\n",
       "      <td>54</td>\n",
       "      <td>69</td>\n",
       "      <td>34</td>\n",
       "    </tr>\n",
       "    <tr>\n",
       "      <th>4</th>\n",
       "      <td>Asian</td>\n",
       "      <td>24</td>\n",
       "      <td>8</td>\n",
       "      <td>44</td>\n",
       "    </tr>\n",
       "  </tbody>\n",
       "</table>\n",
       "</div>"
      ],
      "text/plain": [
       "              Race 2015 2016 2017\n",
       "0            White   53   45   86\n",
       "1            Black  520  534  616\n",
       "2  American Indian   24   43   53\n",
       "3   Hispanic/Latin   54   69   34\n",
       "4            Asian   24    8   44"
      ]
     },
     "execution_count": 16,
     "metadata": {},
     "output_type": "execute_result"
    }
   ],
   "source": [
    "unsolved_cases_by_race"
   ]
  },
  {
   "cell_type": "code",
   "execution_count": 17,
   "metadata": {},
   "outputs": [],
   "source": [
    "#Converting all columns except \"Race\" to ints\n",
    "unsolved_cases_by_race[\"2015\"] = pd.to_numeric(unsolved_cases_by_race[\"2015\"])\n",
    "unsolved_cases_by_race[\"2016\"] = pd.to_numeric(unsolved_cases_by_race[\"2016\"])\n",
    "unsolved_cases_by_race[\"2017\"] = pd.to_numeric(unsolved_cases_by_race[\"2017\"])\n"
   ]
  },
  {
   "cell_type": "code",
   "execution_count": 18,
   "metadata": {},
   "outputs": [
    {
     "data": {
      "text/plain": [
       "Text(0, 0.5, 'Unsolved Cases')"
      ]
     },
     "execution_count": 18,
     "metadata": {},
     "output_type": "execute_result"
    },
    {
     "data": {
      "image/png": "[encoded data removed]",
      "text/plain": [
       "<Figure size 720x720 with 1 Axes>"
      ]
     },
     "metadata": {
      "needs_background": "light"
     },
     "output_type": "display_data"
    }
   ],
   "source": [
    "plt_unsolved_cases =unsolved_cases_by_race.plot(kind = 'bar', x = 'Race',y = ['2015', '2016', '2017'], title = \"Unsolved Cases by Race and Year\", figsize = (10,10))\n",
    "plt_unsolved_cases.set_xlabel(\"Race\")\n",
    "plt_unsolved_cases.set_ylabel(\"Unsolved Cases\")"
   ]
  },
  {
   "cell_type": "markdown",
   "metadata": {},
   "source": [
    "The bar chart shows that black americans have the most unsolved cases. Other races have low amount of unsolved cases. Though we have to understand that Blacks also have the highest amount of hate crimes. So,we have to look for the percentage of unsolved cases."
   ]
  },
  {
   "cell_type": "markdown",
   "metadata": {},
   "source": [
    "### Creating a Data Frame and a Bar Chart that shows which race has the largest percentage of unsolved cases"
   ]
  },
  {
   "cell_type": "code",
   "execution_count": 19,
   "metadata": {},
   "outputs": [],
   "source": [
    "#Constructing DataFrame of Percentage for the unsolved cases by race\n",
    "percentage_unsolved_cases = pd.DataFrame(np.array([ [\"White\", H_C2015[\"Percentage\"][3] ,H_C2016[\"Percentage\"][3] ,H_C2017[\"Percentage\"][3]],\n",
    "                                                 [\"Black\", H_C2015[\"Percentage\"][4] ,H_C2016[\"Percentage\"][4] ,H_C2017[\"Percentage\"][4]],\n",
    "                                                  [\"American Indian\", H_C2015[\"Percentage\"][5] ,H_C2016[\"Percentage\"][5] ,H_C2017[\"Percentage\"][5]],\n",
    "                                                  [\"Hispanic/Latin\", H_C2015[\"Percentage\"][10] ,H_C2016[\"Percentage\"][10] ,H_C2017[\"Percentage\"][10]],\n",
    "                                                  [\"Asian\", H_C2015[\"Percentage\"][6] ,H_C2016[\"Percentage\"][6] ,H_C2017[\"Percentage\"][6]]]),\n",
    "                                                columns = ['Race','2015','2016','2017'])"
   ]
  },
  {
   "cell_type": "code",
   "execution_count": 20,
   "metadata": {},
   "outputs": [
    {
     "data": {
      "text/html": [
       "<div>\n",
       "<style scoped>\n",
       "    .dataframe tbody tr th:only-of-type {\n",
       "        vertical-align: middle;\n",
       "    }\n",
       "\n",
       "    .dataframe tbody tr th {\n",
       "        vertical-align: top;\n",
       "    }\n",
       "\n",
       "    .dataframe thead th {\n",
       "        text-align: right;\n",
       "    }\n",
       "</style>\n",
       "<table border=\"1\" class=\"dataframe\">\n",
       "  <thead>\n",
       "    <tr style=\"text-align: right;\">\n",
       "      <th></th>\n",
       "      <th>Race</th>\n",
       "      <th>2015</th>\n",
       "      <th>2016</th>\n",
       "      <th>2017</th>\n",
       "    </tr>\n",
       "  </thead>\n",
       "  <tbody>\n",
       "    <tr>\n",
       "      <th>0</th>\n",
       "      <td>White</td>\n",
       "      <td>7.220708446866484</td>\n",
       "      <td>5.136986301369863</td>\n",
       "      <td>10.189573459715639</td>\n",
       "    </tr>\n",
       "    <tr>\n",
       "      <th>1</th>\n",
       "      <td>Black</td>\n",
       "      <td>24.47058823529412</td>\n",
       "      <td>25.164938737040526</td>\n",
       "      <td>26.123833757421544</td>\n",
       "    </tr>\n",
       "    <tr>\n",
       "      <th>2</th>\n",
       "      <td>American Indian</td>\n",
       "      <td>17.51824817518248</td>\n",
       "      <td>26.70807453416149</td>\n",
       "      <td>18.86120996441281</td>\n",
       "    </tr>\n",
       "    <tr>\n",
       "      <th>3</th>\n",
       "      <td>Hispanic/Latin</td>\n",
       "      <td>14.24802110817942</td>\n",
       "      <td>15.367483296213807</td>\n",
       "      <td>6.476190476190475</td>\n",
       "    </tr>\n",
       "    <tr>\n",
       "      <th>4</th>\n",
       "      <td>Asian</td>\n",
       "      <td>18.181818181818183</td>\n",
       "      <td>6.106870229007633</td>\n",
       "      <td>28.947368421052634</td>\n",
       "    </tr>\n",
       "  </tbody>\n",
       "</table>\n",
       "</div>"
      ],
      "text/plain": [
       "              Race                2015                2016                2017\n",
       "0            White   7.220708446866484   5.136986301369863  10.189573459715639\n",
       "1            Black   24.47058823529412  25.164938737040526  26.123833757421544\n",
       "2  American Indian   17.51824817518248   26.70807453416149   18.86120996441281\n",
       "3   Hispanic/Latin   14.24802110817942  15.367483296213807   6.476190476190475\n",
       "4            Asian  18.181818181818183   6.106870229007633  28.947368421052634"
      ]
     },
     "execution_count": 20,
     "metadata": {},
     "output_type": "execute_result"
    }
   ],
   "source": [
    "percentage_unsolved_cases"
   ]
  },
  {
   "cell_type": "code",
   "execution_count": 21,
   "metadata": {},
   "outputs": [],
   "source": [
    "#Converting all columns except \"Race\" to 2 decimal numbers\n",
    "percentage_unsolved_cases[\"2015\"] = round(pd.to_numeric(percentage_unsolved_cases[\"2015\"]),2)\n",
    "percentage_unsolved_cases[\"2016\"] = round(pd.to_numeric(percentage_unsolved_cases[\"2016\"]),2)\n",
    "percentage_unsolved_cases[\"2017\"] = round(pd.to_numeric(percentage_unsolved_cases[\"2017\"]),2)"
   ]
  },
  {
   "cell_type": "code",
   "execution_count": 22,
   "metadata": {},
   "outputs": [
    {
     "data": {
      "text/plain": [
       "Text(17.200000000000003, 0.5, 'Percentage of Unsolved Cases')"
      ]
     },
     "execution_count": 22,
     "metadata": {},
     "output_type": "execute_result"
    },
    {
     "data": {
      "image/png": "[encoded data removed]",
      "text/plain": [
       "<Figure size 720x720 with 1 Axes>"
      ]
     },
     "metadata": {
      "needs_background": "light"
     },
     "output_type": "display_data"
    }
   ],
   "source": [
    "plt_percentage_unsolved_cases =percentage_unsolved_cases.plot(kind = 'bar', x = 'Race',y = ['2015', '2016', '2017'], title = \"Percentages of Unsolved Cases by Race\", figsize = (10,10))\n",
    "plt_unsolved_cases.set_xlabel(\"Race\")\n",
    "plt_unsolved_cases.set_ylabel(\"Percentage of Unsolved Cases\")"
   ]
  },
  {
   "cell_type": "markdown",
   "metadata": {},
   "source": [
    "This bar chart shows that Percentages of unsolved hate crime cases is lowest among white americans and hispanic/latin whereas its highest among others."
   ]
  },
  {
   "cell_type": "markdown",
   "metadata": {},
   "source": [
    "### Creating a Data Frame and a Bar Chart that shows how fast the hate crime is increasing for each race ( 2016 - 2017 )"
   ]
  },
  {
   "cell_type": "code",
   "execution_count": 23,
   "metadata": {},
   "outputs": [],
   "source": [
    "#Constructing DataFrame of how fast the hate crime is increasing by race (2016-2017)\n",
    "increase_crime_by_race = pd.DataFrame(np.array([ [\"White\", (abs(H_C2015[\"Offenses\"][3]-H_C2016[\"Offenses\"][3])/H_C2015[\"Offenses\"][3])*100 , (abs(H_C2016[\"Offenses\"][3]-H_C2017[\"Offenses\"][3])/H_C2016[\"Offenses\"][3])*100],\n",
    "                                                 [\"Black\", (abs(H_C2015[\"Offenses\"][4]-H_C2016[\"Offenses\"][4])/H_C2015[\"Offenses\"][4])*100 , (abs(H_C2016[\"Offenses\"][4]-H_C2017[\"Offenses\"][4])/H_C2016[\"Offenses\"][4])*100],\n",
    "                                                  [\"American Indian\",(abs(H_C2015[\"Offenses\"][5]-H_C2016[\"Offenses\"][5])/H_C2015[\"Offenses\"][5])*100 , (abs(H_C2016[\"Offenses\"][5]-H_C2017[\"Offenses\"][5])/H_C2016[\"Offenses\"][5])*100],\n",
    "                                                  [\"Hispanic/Latin\",(abs(H_C2015[\"Offenses\"][10]-H_C2016[\"Offenses\"][10])/H_C2015[\"Offenses\"][10])*100 , (abs(H_C2016[\"Offenses\"][10]-H_C2017[\"Offenses\"][10])/H_C2016[\"Offenses\"][10])*100],\n",
    "                                                  [\"Asian\",(abs(H_C2015[\"Offenses\"][6]-H_C2016[\"Offenses\"][6])/H_C2015[\"Offenses\"][6])*100 , (abs(H_C2016[\"Offenses\"][6]-H_C2017[\"Offenses\"][6])/H_C2016[\"Offenses\"][6])*100]]),\n",
    "                                                columns = ['Race','2015-2016','2016-2017'])"
   ]
  },
  {
   "cell_type": "code",
   "execution_count": 24,
   "metadata": {},
   "outputs": [
    {
     "data": {
      "text/html": [
       "<div>\n",
       "<style scoped>\n",
       "    .dataframe tbody tr th:only-of-type {\n",
       "        vertical-align: middle;\n",
       "    }\n",
       "\n",
       "    .dataframe tbody tr th {\n",
       "        vertical-align: top;\n",
       "    }\n",
       "\n",
       "    .dataframe thead th {\n",
       "        text-align: right;\n",
       "    }\n",
       "</style>\n",
       "<table border=\"1\" class=\"dataframe\">\n",
       "  <thead>\n",
       "    <tr style=\"text-align: right;\">\n",
       "      <th></th>\n",
       "      <th>Race</th>\n",
       "      <th>2015-2016</th>\n",
       "      <th>2016-2017</th>\n",
       "    </tr>\n",
       "  </thead>\n",
       "  <tbody>\n",
       "    <tr>\n",
       "      <th>0</th>\n",
       "      <td>White</td>\n",
       "      <td>19.346049046321525</td>\n",
       "      <td>3.65296803652968</td>\n",
       "    </tr>\n",
       "    <tr>\n",
       "      <th>1</th>\n",
       "      <td>Black</td>\n",
       "      <td>0.1411764705882353</td>\n",
       "      <td>11.121583411875589</td>\n",
       "    </tr>\n",
       "    <tr>\n",
       "      <th>2</th>\n",
       "      <td>American Indian</td>\n",
       "      <td>17.51824817518248</td>\n",
       "      <td>74.53416149068323</td>\n",
       "    </tr>\n",
       "    <tr>\n",
       "      <th>3</th>\n",
       "      <td>Hispanic/Latin</td>\n",
       "      <td>18.46965699208443</td>\n",
       "      <td>16.926503340757236</td>\n",
       "    </tr>\n",
       "    <tr>\n",
       "      <th>4</th>\n",
       "      <td>Asian</td>\n",
       "      <td>0.7575757575757576</td>\n",
       "      <td>16.030534351145036</td>\n",
       "    </tr>\n",
       "  </tbody>\n",
       "</table>\n",
       "</div>"
      ],
      "text/plain": [
       "              Race           2015-2016           2016-2017\n",
       "0            White  19.346049046321525    3.65296803652968\n",
       "1            Black  0.1411764705882353  11.121583411875589\n",
       "2  American Indian   17.51824817518248   74.53416149068323\n",
       "3   Hispanic/Latin   18.46965699208443  16.926503340757236\n",
       "4            Asian  0.7575757575757576  16.030534351145036"
      ]
     },
     "execution_count": 24,
     "metadata": {},
     "output_type": "execute_result"
    }
   ],
   "source": [
    "increase_crime_by_race"
   ]
  },
  {
   "cell_type": "code",
   "execution_count": 25,
   "metadata": {},
   "outputs": [],
   "source": [
    "#Converting all columns except \"Race\" to 2 decimal numbers\n",
    "increase_crime_by_race[\"2015-2016\"] = round(pd.to_numeric(increase_crime_by_race[\"2015-2016\"]),2)\n",
    "increase_crime_by_race[\"2016-2017\"] = round(pd.to_numeric(increase_crime_by_race[\"2016-2017\"]),2)\n"
   ]
  },
  {
   "cell_type": "code",
   "execution_count": 26,
   "metadata": {},
   "outputs": [
    {
     "data": {
      "text/plain": [
       "Text(0, 0.5, 'Percentage of Increase')"
      ]
     },
     "execution_count": 26,
     "metadata": {},
     "output_type": "execute_result"
    },
    {
     "data": {
      "image/png": "[encoded data removed]",
      "text/plain": [
       "<Figure size 720x720 with 1 Axes>"
      ]
     },
     "metadata": {
      "needs_background": "light"
     },
     "output_type": "display_data"
    }
   ],
   "source": [
    "plt_increase_crime_by_race =increase_crime_by_race.plot(kind = 'bar', x = 'Race',y = ['2015-2016', '2016-2017'], title = \"Percentages of Crime Increase Every Year\", figsize = (10,10))\n",
    "plt_increase_crime_by_race.set_xlabel(\"Race\")\n",
    "plt_increase_crime_by_race.set_ylabel(\"Percentage of Increase\")"
   ]
  },
  {
   "cell_type": "markdown",
   "metadata": {},
   "source": [
    "from the bar chart, we can see that crime against White americans decreased while crime against American Indian , African Americans and Asians increased."
   ]
  },
  {
   "cell_type": "markdown",
   "metadata": {},
   "source": [
    "### Conclusion\n"
   ]
  },
  {
   "cell_type": "markdown",
   "metadata": {},
   "source": [
    "In conclusion, we can say that hate crime against African Americans is the highest among other races and is increasing comparatively fast . Also, most of the crimes against African Americans are unsolved.While the percentage of unsolved cases against White Americans is 5-10% , the percentage of unsolved cases against Black Americans is 25-30%."
   ]
  },
  {
   "cell_type": "markdown",
   "metadata": {},
   "source": [
    "#### Self-Assessment"
   ]
  },
  {
   "cell_type": "markdown",
   "metadata": {},
   "source": [
    "One thing I enjoyed about the project was that it let me explore different interesting topics and analyze the topic and come up with answers based on the data available. It was interesting to come up with different questions needed to be answered just from a table. It was also interesting to apply the theorems and hypothesis tests we learned on class in these data sets. Hard part of the project was to explain what the statistics mean and how to interpret them correctly. Another problem I faced was during data pull. Some data in the website were unavailable or was not accessible and some data were not available for years prior to 2015. So, I had to work with limited data sets.  If I had more data sets, my statistics could have been more precise or may be something totally different. Another problem I faced was that the questions I had could easily be solved with bar charts. I was having trouble to use the data sets in different hypothesis test and regression models since I didn’t have any continuous data sets. Overall the project was fun and gave me some experience about analyzing new data from real world."
   ]
  },
  {
   "cell_type": "code",
   "execution_count": null,
   "metadata": {},
   "outputs": [],
   "source": []
  }
 ],
 "metadata": {
  "kernelspec": {
   "display_name": "Python 3",
   "language": "python",
   "name": "python3"
  },
  "language_info": {
   "codemirror_mode": {
    "name": "ipython",
    "version": 3
   },
   "file_extension": ".py",
   "mimetype": "text/x-python",
   "name": "python",
   "nbconvert_exporter": "python",
   "pygments_lexer": "ipython3",
   "version": "3.7.3"
  }
 },
 "nbformat": 4,
 "nbformat_minor": 2
}
